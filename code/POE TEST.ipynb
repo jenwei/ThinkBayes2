{
 "metadata": {
  "name": "",
  "signature": "sha256:ea69d90555091d580ccd19c464c2b986de737c4b821e8630f042b7198e395f45"
 },
 "nbformat": 3,
 "nbformat_minor": 0,
 "worksheets": [
  {
   "cells": [
    {
     "cell_type": "code",
     "collapsed": false,
     "input": [
      "#Code calculates the x and z positions of surface\n",
      "import math\n",
      "import numpy as np\n",
      "from mpl_toolkits.mplot3d import Axes3D\n",
      "import matplotlib.pyplot as plt"
     ],
     "language": "python",
     "metadata": {},
     "outputs": []
    },
    {
     "cell_type": "code",
     "collapsed": false,
     "input": [
      "fig = plt.figure()\n",
      "ax = fig.add_subplot(111, projection='3d')\n",
      "#ax = Axes3D(fig)\n",
      "#Axes3D.scatter(x, d, z, zdir=u'z', s=20, c=u'b', depthshade = True)\n",
      "Axes3D.scatter(x,d,z)\n",
      "plt.show()"
     ],
     "language": "python",
     "metadata": {},
     "outputs": []
    },
    {
     "cell_type": "code",
     "collapsed": false,
     "input": [
      "d = [5,2,5,6,3] #will be distance inputs\n",
      "h_angle = [90, 0, 45, -90, 30] #Vector of horizontal position angles of IR distance sensor\n",
      "v_angle = [93, 4, -20, 49, -50] #vecotr of vertical position angles of IR distance sensor\n",
      "\n",
      "x = []\n",
      "z = []\n",
      "pi = 3.14\n",
      "\n",
      "def radians(degrees):\n",
      "    rad = degrees*(pi/180)\n",
      "    return rad\n",
      "print(radians(180))\n",
      "\n",
      "def xvalues (distance, angle):\n",
      "   x_value = distance*math.sin(angle)\n",
      "   print (\"X Variable = %s\" % (x_value))\n",
      "   return x_value\n",
      "\n",
      "def zvalues (distance, angle):\n",
      "    z_value = distance*math.sin(angle)\n",
      "    print (\"Z Variable = %s\" %(z_value))\n",
      "    return z\n",
      "\n",
      "for i in range(0, len(d)):\n",
      "    x.append(xvalues(d[i], radians(h_angle[i])))\n",
      "    z.append(zvalues(d[i], radians(v_angle[i])))"
     ],
     "language": "python",
     "metadata": {},
     "outputs": []
    },
    {
     "cell_type": "code",
     "collapsed": false,
     "input": [
      "plt.plot(1,2)\n",
      "plt.show()"
     ],
     "language": "python",
     "metadata": {},
     "outputs": []
    },
    {
     "cell_type": "code",
     "collapsed": false,
     "input": [],
     "language": "python",
     "metadata": {},
     "outputs": []
    }
   ],
   "metadata": {}
  }
 ]
}