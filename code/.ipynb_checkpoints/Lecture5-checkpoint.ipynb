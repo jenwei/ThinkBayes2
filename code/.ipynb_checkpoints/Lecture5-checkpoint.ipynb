{
 "metadata": {
  "name": "",
  "signature": "sha256:90e42604428512bd4d64b809b3e48b6a47cb3f50b478ea47ab77f835daa6b977"
 },
 "nbformat": 3,
 "nbformat_minor": 0,
 "worksheets": [
  {
   "cells": [
    {
     "cell_type": "code",
     "collapsed": false,
     "input": [
      "import thinkbayes2\n",
      "import thinkplot\n",
      "\n"
     ],
     "language": "python",
     "metadata": {},
     "outputs": [],
     "prompt_number": 2
    },
    {
     "cell_type": "code",
     "collapsed": false,
     "input": [
      "pmfX = thinkbayes2.NormalPdf(163,7.3).MakePmf()\n",
      "pmfY = thinkbayes2.NormalPdf(178,7.7).MakePmf()\n",
      "\n",
      "n = 1000\n",
      "xs = pmfX.MakeCdf().Sample(n)\n",
      "ys = pmfY.MakeCdf().Sample(n)\n",
      "zs=xs+ys\n",
      "pmfZ=thinkbayes2.Pmf(zs)\n"
     ],
     "language": "python",
     "metadata": {},
     "outputs": [],
     "prompt_number": 29
    },
    {
     "cell_type": "code",
     "collapsed": false,
     "input": [
      "thinkplot.Cdfs([pmfX.MakeCdf(),pmfY.MakeCdf(),pmfZ.MakeCdf()])"
     ],
     "language": "python",
     "metadata": {},
     "outputs": [
      {
       "metadata": {},
       "output_type": "display_data",
       "png": "[encoded data removed]",
       "text": [
        "<matplotlib.figure.Figure at 0xa94b2e8>"
       ]
      }
     ],
     "prompt_number": 6
    },
    {
     "cell_type": "code",
     "collapsed": false,
     "input": [
      "def AddPmf(self, other):\n",
      "    \"\"\"Computes the Pmf of the sum.\n",
      "    other: another Pmf\n",
      "    returns: new Pmf\n",
      "    \"\"\"\n",
      "    pmf = Pmf()\n",
      "    for v1, p1 in self.Items():\n",
      "        for v2, p2 in other.Items():\n",
      "            pmf.Incr(v1 + v2, p1 * p2)\n",
      "    return pmf"
     ],
     "language": "python",
     "metadata": {},
     "outputs": [],
     "prompt_number": 9
    },
    {
     "cell_type": "code",
     "collapsed": false,
     "input": [
      "def PmfProd(pmf1,pmf2):\n",
      "    \"\"\"Compute the distribution of the product of a value from pmf1 and a value from pmf2\"\"\"\n",
      "    pmf=thinkbayes2.Pmf()\n",
      "    for v1,p1 in pmf1.Items():\n",
      "        for v2,p2 in pmf2.Items():\n",
      "            pmf.Incr(v1*v2,p1*p2)\n",
      "    return pmf"
     ],
     "language": "python",
     "metadata": {},
     "outputs": [],
     "prompt_number": 14
    },
    {
     "cell_type": "code",
     "collapsed": false,
     "input": [
      "pmfZ = PmfProd(pmfX,pmfY)\n",
      "thinkplot.Cdf(pmfZ.MakeCdf())"
     ],
     "language": "python",
     "metadata": {},
     "outputs": [
      {
       "metadata": {},
       "output_type": "pyout",
       "prompt_number": 15,
       "text": [
        "{'xscale': 'linear', 'yscale': 'linear'}"
       ]
      },
      {
       "metadata": {},
       "output_type": "display_data",
       "png": "[encoded data removed]",
       "text": [
        "<matplotlib.figure.Figure at 0xa969240>"
       ]
      }
     ],
     "prompt_number": 15
    },
    {
     "cell_type": "code",
     "collapsed": false,
     "input": [
      "n = 1000\n",
      "xs = pmfX.MakeCdf().Sample(n)\n",
      "ys = pmfY.MakeCdf().Sample(n)\n",
      "zs=xs*ys\n",
      "pmfZ=thinkbayes2.Pmf(zs)"
     ],
     "language": "python",
     "metadata": {},
     "outputs": [],
     "prompt_number": 18
    },
    {
     "cell_type": "code",
     "collapsed": false,
     "input": [
      "thinkplot.Cdf(pmfZ.MakeCdf())"
     ],
     "language": "python",
     "metadata": {},
     "outputs": [
      {
       "metadata": {},
       "output_type": "pyout",
       "prompt_number": 19,
       "text": [
        "{'xscale': 'linear', 'yscale': 'linear'}"
       ]
      },
      {
       "metadata": {},
       "output_type": "display_data",
       "png": "[encoded data removed]",
       "text": [
        "<matplotlib.figure.Figure at 0xaec01d0>"
       ]
      }
     ],
     "prompt_number": 19
    },
    {
     "cell_type": "code",
     "collapsed": false,
     "input": [
      "def PmfProbSumGreater(pmf1,pmf2,pmf3):\n",
      "    pmf4=pmf1+pmf2\n",
      "    p=pmf4.ProbGreater(pmf3)\n",
      "    #thinkplot.Cdfs([pmf3.MakeCdf(),pmf4,MakeCdf()])\n",
      "    return p\n",
      "pmfX = thinkbayes2.NormalPdf(163,7.3).MakePmf()\n",
      "pmfY = thinkbayes2.NormalPdf(178,7.7).MakePmf()\n",
      "PmfProbSumGreater(pmfX, pmfY, pmfY+pmfX)"
     ],
     "language": "python",
     "metadata": {},
     "outputs": [
      {
       "metadata": {},
       "output_type": "pyout",
       "prompt_number": 28,
       "text": [
        "0.49985535347625593"
       ]
      }
     ],
     "prompt_number": 28
    },
    {
     "cell_type": "code",
     "collapsed": false,
     "input": [],
     "language": "python",
     "metadata": {},
     "outputs": []
    }
   ],
   "metadata": {}
  }
 ]
}