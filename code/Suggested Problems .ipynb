{
 "metadata": {
  "name": "",
  "signature": "sha256:d4a9b7f0a7fb4b8d0bdaf29e3a5cf4cda7c95f001a47ec7def3ad6dff1568d40"
 },
 "nbformat": 3,
 "nbformat_minor": 0,
 "worksheets": [
  {
   "cells": [
    {
     "cell_type": "markdown",
     "metadata": {},
     "source": [
      "Fortune Cookie Problem"
     ]
    },
    {
     "cell_type": "code",
     "collapsed": false,
     "input": [
      "import thinkbayes2\n",
      "import thinkplot "
     ],
     "language": "python",
     "metadata": {},
     "outputs": [],
     "prompt_number": 36
    },
    {
     "cell_type": "code",
     "collapsed": false,
     "input": [
      "from dice import Dice"
     ],
     "language": "python",
     "metadata": {},
     "outputs": [],
     "prompt_number": 32
    },
    {
     "cell_type": "code",
     "collapsed": false,
     "input": [
      "class Cookie(Dice):\n",
      "    def __init__(self,hypos,alpha=1.0):\n",
      "        thinkbayes2.Pmf.__init__(self)\n",
      "        for hypo in hypos:\n",
      "            self.Set(hypo,hypo**(-alpha))\n",
      "        self.Normalize()"
     ],
     "language": "python",
     "metadata": {},
     "outputs": [],
     "prompt_number": 40
    },
    {
     "cell_type": "code",
     "collapsed": false,
     "input": [
      "hypos = range(1,1001)\n",
      "suite = Cookie(hypos)"
     ],
     "language": "python",
     "metadata": {},
     "outputs": [],
     "prompt_number": 41
    },
    {
     "cell_type": "code",
     "collapsed": false,
     "input": [
      "def Mean(suite):\n",
      "    total = 0\n",
      "    for hypo, prob in suite.Items():\n",
      "        total+= hypo*prob\n",
      "    return total\n",
      "\n",
      "print Mean(suite)"
     ],
     "language": "python",
     "metadata": {},
     "outputs": [
      {
       "output_type": "stream",
       "stream": "stdout",
       "text": [
        "133.592130492\n"
       ]
      }
     ],
     "prompt_number": 42
    },
    {
     "cell_type": "code",
     "collapsed": false,
     "input": [
      "for data in [1,1,2,3,4,5,6,7,8]:\n",
      "    suite.Update(data)"
     ],
     "language": "python",
     "metadata": {},
     "outputs": [],
     "prompt_number": 43
    },
    {
     "cell_type": "code",
     "collapsed": false,
     "input": [
      "print Mean(suite)"
     ],
     "language": "python",
     "metadata": {},
     "outputs": [
      {
       "output_type": "stream",
       "stream": "stdout",
       "text": [
        "8.54514068745\n"
       ]
      }
     ],
     "prompt_number": 44
    },
    {
     "cell_type": "code",
     "collapsed": false,
     "input": [],
     "language": "python",
     "metadata": {},
     "outputs": []
    }
   ],
   "metadata": {}
  }
 ]
}